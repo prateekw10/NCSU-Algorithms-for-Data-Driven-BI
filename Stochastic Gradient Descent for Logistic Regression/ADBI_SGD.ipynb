{
 "cells": [
  {
   "cell_type": "code",
   "execution_count": 268,
   "metadata": {
    "id": "Y85AtSnz98Y-"
   },
   "outputs": [],
   "source": [
    "from sklearn import datasets\n",
    "import numpy as np\n",
    "import pandas as pd\n",
    "from sklearn.metrics import mean_squared_error\n",
    "import random\n",
    "from sklearn.model_selection import train_test_split"
   ]
  },
  {
   "cell_type": "code",
   "execution_count": 269,
   "metadata": {
    "colab": {
     "base_uri": "https://localhost:8080/"
    },
    "id": "nBJBdQtvM8ZW",
    "outputId": "8dc7c888-71a8-460b-b483-c0456dbf7d99"
   },
   "outputs": [
    {
     "name": "stderr",
     "output_type": "stream",
     "text": [
      "/usr/local/lib/python3.7/dist-packages/sklearn/utils/deprecation.py:87: FutureWarning: Function load_boston is deprecated; `load_boston` is deprecated in 1.0 and will be removed in 1.2.\n",
      "\n",
      "    The Boston housing prices dataset has an ethical problem. You can refer to\n",
      "    the documentation of this function for further details.\n",
      "\n",
      "    The scikit-learn maintainers therefore strongly discourage the use of this\n",
      "    dataset unless the purpose of the code is to study and educate about\n",
      "    ethical issues in data science and machine learning.\n",
      "\n",
      "    In this special case, you can fetch the dataset from the original\n",
      "    source::\n",
      "\n",
      "        import pandas as pd\n",
      "        import numpy as np\n",
      "\n",
      "\n",
      "        data_url = \"http://lib.stat.cmu.edu/datasets/boston\"\n",
      "        raw_df = pd.read_csv(data_url, sep=\"\\s+\", skiprows=22, header=None)\n",
      "        data = np.hstack([raw_df.values[::2, :], raw_df.values[1::2, :2]])\n",
      "        target = raw_df.values[1::2, 2]\n",
      "\n",
      "    Alternative datasets include the California housing dataset (i.e.\n",
      "    :func:`~sklearn.datasets.fetch_california_housing`) and the Ames housing\n",
      "    dataset. You can load the datasets as follows::\n",
      "\n",
      "        from sklearn.datasets import fetch_california_housing\n",
      "        housing = fetch_california_housing()\n",
      "\n",
      "    for the California housing dataset and::\n",
      "\n",
      "        from sklearn.datasets import fetch_openml\n",
      "        housing = fetch_openml(name=\"house_prices\", as_frame=True)\n",
      "\n",
      "    for the Ames housing dataset.\n",
      "    \n",
      "  warnings.warn(msg, category=FutureWarning)\n"
     ]
    }
   ],
   "source": [
    "boston = datasets.load_boston()"
   ]
  },
  {
   "cell_type": "code",
   "execution_count": 270,
   "metadata": {
    "id": "bVeXzscINDpo"
   },
   "outputs": [],
   "source": [
    "X = pd.DataFrame(boston.data)\n",
    "X['intercept'] = 1\n",
    "X = np.array(X)\n",
    "Y = boston.target"
   ]
  },
  {
   "cell_type": "code",
   "execution_count": 271,
   "metadata": {
    "id": "feB5kL4ENTDn"
   },
   "outputs": [],
   "source": [
    "def stepGradient(x, y, m, learningRate, tuning):\n",
    "  m_gradient = [0]*14\n",
    "  for i in range(13):\n",
    "    m_gradient[i] = -2*x[i]*(y - np.dot(m,x)) + 2*tuning*m[i]\n",
    "  m_gradient[13] = -2*(y - np.dot(m,x))\n",
    "  # Update coefficients\n",
    "  new_m = [0]*14\n",
    "  for i in range(14):\n",
    "    new_m[i] = m[i] - learningRate*m_gradient[i]\n",
    "  \n",
    "  return new_m"
   ]
  },
  {
   "cell_type": "code",
   "execution_count": 272,
   "metadata": {
    "id": "hzYSVVdEPJJH"
   },
   "outputs": [],
   "source": [
    "def sgd(X, Y):\n",
    "  m = [1]*14\n",
    "  tuning = 0.01\n",
    "  learningRate = 0.001\n",
    "  error = []\n",
    "  for k in range(10000):\n",
    "    cost = sum((Y - np.dot(X,m))**2)/len(Y) + tuning*(sum([i**2 for i in m]))\n",
    "    i = random.randrange(len(Y))\n",
    "    m = stepGradient(X[i], Y[i], m, learningRate, tuning)\n",
    "    y_pred = np.dot(X,m)\n",
    "    error.append(mean_squared_error(y_pred,Y))\n",
    "  return m, error"
   ]
  },
  {
   "cell_type": "code",
   "execution_count": 273,
   "metadata": {
    "colab": {
     "base_uri": "https://localhost:8080/"
    },
    "id": "7Fy9o8i3pZtg",
    "outputId": "d02f9ea3-fa00-4a4f-92fe-3421765d88bf"
   },
   "outputs": [
    {
     "name": "stdout",
     "output_type": "stream",
     "text": [
      "New coefficients: [-1.0180366165932357, 5.248742595405718, -1.8163388622082952, 3.694080650262018, 0.09850148762456754, 14.108903322284053, 1.3163053314302682, 1.7397558645070286, -0.2701291500543387, -2.4345875902406235, -4.762316855560389, 8.670689140958006, -7.497248092558994, 11.997660104926997]\n",
      "Test MSE: 40.358035111661\n"
     ]
    }
   ],
   "source": [
    "# Training using SGD\n",
    "# split the data set into train and test\n",
    "X_train, X_test, y_train, y_test = train_test_split(X, Y, test_size=0.3, random_state=0)\n",
    "\n",
    "# normalize data\n",
    "for i in range(len(X_train[0])):\n",
    "  if(i!=13):\n",
    "    min, max = X_train[:,i].min(), X_train[:,i].max()\n",
    "    X_train[:,i] = (X_train[:,i] - min)/(max - min)\n",
    "    X_test[:,i] = (X_test[:,i] - min)/(max - min)\n",
    "\n",
    "# get optimal coefficients\n",
    "m, error = sgd(X_train, y_train)\n",
    "print(\"New coefficients:\",m)\n",
    "# # run on testing data\n",
    "y_pred = np.dot(X_test, m)\n",
    "print(\"Test MSE:\",mean_squared_error(y_test, y_pred))"
   ]
  },
  {
   "cell_type": "code",
   "execution_count": 274,
   "metadata": {
    "colab": {
     "base_uri": "https://localhost:8080/",
     "height": 282
    },
    "id": "LxEXO0kJVzsJ",
    "outputId": "84aeb458-24cf-4e7d-bb98-0eaa900b32bc"
   },
   "outputs": [
    {
     "data": {
      "text/plain": [
       "[<matplotlib.lines.Line2D at 0x7f6d40facd10>]"
      ]
     },
     "execution_count": 274,
     "metadata": {},
     "output_type": "execute_result"
    },
    {
     "data": {
      "image/png": "[encoded data removed]",
      "text/plain": [
       "<Figure size 432x288 with 1 Axes>"
      ]
     },
     "metadata": {
      "needs_background": "light"
     },
     "output_type": "display_data"
    }
   ],
   "source": [
    "import matplotlib.pyplot as plt\n",
    "plt.plot(error)"
   ]
  }
 ],
 "metadata": {
  "colab": {
   "name": "ADBI_SGD",
   "provenance": []
  },
  "kernelspec": {
   "display_name": "Python 3",
   "language": "python",
   "name": "python3"
  },
  "language_info": {
   "codemirror_mode": {
    "name": "ipython",
    "version": 3
   },
   "file_extension": ".py",
   "mimetype": "text/x-python",
   "name": "python",
   "nbconvert_exporter": "python",
   "pygments_lexer": "ipython3",
   "version": "3.8.8"
  }
 },
 "nbformat": 4,
 "nbformat_minor": 1
}
